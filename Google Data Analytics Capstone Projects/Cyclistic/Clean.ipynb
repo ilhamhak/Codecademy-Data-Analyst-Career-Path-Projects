{
 "cells": [
  {
   "cell_type": "code",
   "execution_count": 1,
   "id": "40c2c68f",
   "metadata": {},
   "outputs": [],
   "source": [
    "import pandas as pd\n",
    "import os"
   ]
  },
  {
   "cell_type": "code",
   "execution_count": 2,
   "id": "28df1cd0",
   "metadata": {},
   "outputs": [],
   "source": [
    "# files = [file for file in os.listdir('./dat')]\n",
    "\n",
    "# merged_data = pd.DataFrame()\n",
    "\n",
    "# for file in files:\n",
    "#     df = pd.read_csv(\"./dat/\"+file)\n",
    "#     merged_data = pd.concat([merged_data, df])\n",
    "# merged_data.to_csv(\"all_data.csv\", index = False)"
   ]
  },
  {
   "cell_type": "code",
   "execution_count": 3,
   "id": "9e86cdf1",
   "metadata": {},
   "outputs": [],
   "source": [
    "# df = pd.read_csv(\"all_data.csv\")"
   ]
  },
  {
   "cell_type": "code",
   "execution_count": 4,
   "id": "36c0f9f1",
   "metadata": {},
   "outputs": [],
   "source": [
    "# drop_these = [\"start_station_id\",\"end_station_id\", \"start_lat\", \"start_lng\", \"end_lat\", \"end_lng\"]\n",
    "# df = df.drop(columns=drop_these)"
   ]
  },
  {
   "cell_type": "code",
   "execution_count": 5,
   "id": "e6eb45b2",
   "metadata": {},
   "outputs": [],
   "source": [
    "# df.to_csv(\"importante.csv\")"
   ]
  },
  {
   "cell_type": "code",
   "execution_count": 6,
   "id": "6e713b3c",
   "metadata": {},
   "outputs": [],
   "source": [
    "dat = pd.read_csv(\"importante.csv\")"
   ]
  },
  {
   "cell_type": "code",
   "execution_count": 7,
   "id": "a8147815",
   "metadata": {},
   "outputs": [],
   "source": [
    "dat[\"started_at\"] = pd.to_datetime(dat[\"started_at\"])\n",
    "dat[\"ended_at\"] = pd.to_datetime(dat[\"ended_at\"])"
   ]
  },
  {
   "cell_type": "code",
   "execution_count": 8,
   "id": "07e22468",
   "metadata": {},
   "outputs": [],
   "source": [
    "dat[\"ride_length\"] = dat.ended_at - dat.started_at"
   ]
  },
  {
   "cell_type": "code",
   "execution_count": 9,
   "id": "665f8973",
   "metadata": {},
   "outputs": [],
   "source": [
    "dat[\"day\"] = dat[\"started_at\"].dt.day_name()"
   ]
  },
  {
   "cell_type": "code",
   "execution_count": 10,
   "id": "a3091e3e",
   "metadata": {},
   "outputs": [
    {
     "data": {
      "text/html": [
       "<div>\n",
       "<style scoped>\n",
       "    .dataframe tbody tr th:only-of-type {\n",
       "        vertical-align: middle;\n",
       "    }\n",
       "\n",
       "    .dataframe tbody tr th {\n",
       "        vertical-align: top;\n",
       "    }\n",
       "\n",
       "    .dataframe thead th {\n",
       "        text-align: right;\n",
       "    }\n",
       "</style>\n",
       "<table border=\"1\" class=\"dataframe\">\n",
       "  <thead>\n",
       "    <tr style=\"text-align: right;\">\n",
       "      <th></th>\n",
       "      <th>ride_id</th>\n",
       "      <th>rideable_type</th>\n",
       "      <th>started_at</th>\n",
       "      <th>ended_at</th>\n",
       "      <th>start_station_name</th>\n",
       "      <th>end_station_name</th>\n",
       "      <th>member_casual</th>\n",
       "      <th>ride_length</th>\n",
       "      <th>day</th>\n",
       "    </tr>\n",
       "  </thead>\n",
       "  <tbody>\n",
       "    <tr>\n",
       "      <th>0</th>\n",
       "      <td>BD0A6FF6FFF9B921</td>\n",
       "      <td>electric_bike</td>\n",
       "      <td>2020-11-01 13:36:00</td>\n",
       "      <td>2020-11-01 13:45:40</td>\n",
       "      <td>Dearborn St &amp; Erie St</td>\n",
       "      <td>St. Clair St &amp; Erie St</td>\n",
       "      <td>casual</td>\n",
       "      <td>0 days 00:09:40</td>\n",
       "      <td>Sunday</td>\n",
       "    </tr>\n",
       "    <tr>\n",
       "      <th>1</th>\n",
       "      <td>96A7A7A4BDE4F82D</td>\n",
       "      <td>electric_bike</td>\n",
       "      <td>2020-11-01 10:03:26</td>\n",
       "      <td>2020-11-01 10:14:45</td>\n",
       "      <td>Franklin St &amp; Illinois St</td>\n",
       "      <td>Noble St &amp; Milwaukee Ave</td>\n",
       "      <td>casual</td>\n",
       "      <td>0 days 00:11:19</td>\n",
       "      <td>Sunday</td>\n",
       "    </tr>\n",
       "    <tr>\n",
       "      <th>2</th>\n",
       "      <td>C61526D06582BDC5</td>\n",
       "      <td>electric_bike</td>\n",
       "      <td>2020-11-01 00:34:05</td>\n",
       "      <td>2020-11-01 01:03:06</td>\n",
       "      <td>Lake Shore Dr &amp; Monroe St</td>\n",
       "      <td>Federal St &amp; Polk St</td>\n",
       "      <td>casual</td>\n",
       "      <td>0 days 00:29:01</td>\n",
       "      <td>Sunday</td>\n",
       "    </tr>\n",
       "    <tr>\n",
       "      <th>3</th>\n",
       "      <td>E533E89C32080B9E</td>\n",
       "      <td>electric_bike</td>\n",
       "      <td>2020-11-01 00:45:16</td>\n",
       "      <td>2020-11-01 00:54:31</td>\n",
       "      <td>Leavitt St &amp; Chicago Ave</td>\n",
       "      <td>Stave St &amp; Armitage Ave</td>\n",
       "      <td>casual</td>\n",
       "      <td>0 days 00:09:15</td>\n",
       "      <td>Sunday</td>\n",
       "    </tr>\n",
       "    <tr>\n",
       "      <th>4</th>\n",
       "      <td>1C9F4EF18C168C60</td>\n",
       "      <td>electric_bike</td>\n",
       "      <td>2020-11-01 15:43:25</td>\n",
       "      <td>2020-11-01 16:16:52</td>\n",
       "      <td>Buckingham Fountain</td>\n",
       "      <td>Buckingham Fountain</td>\n",
       "      <td>casual</td>\n",
       "      <td>0 days 00:33:27</td>\n",
       "      <td>Sunday</td>\n",
       "    </tr>\n",
       "  </tbody>\n",
       "</table>\n",
       "</div>"
      ],
      "text/plain": [
       "            ride_id  rideable_type          started_at            ended_at  \\\n",
       "0  BD0A6FF6FFF9B921  electric_bike 2020-11-01 13:36:00 2020-11-01 13:45:40   \n",
       "1  96A7A7A4BDE4F82D  electric_bike 2020-11-01 10:03:26 2020-11-01 10:14:45   \n",
       "2  C61526D06582BDC5  electric_bike 2020-11-01 00:34:05 2020-11-01 01:03:06   \n",
       "3  E533E89C32080B9E  electric_bike 2020-11-01 00:45:16 2020-11-01 00:54:31   \n",
       "4  1C9F4EF18C168C60  electric_bike 2020-11-01 15:43:25 2020-11-01 16:16:52   \n",
       "\n",
       "          start_station_name          end_station_name member_casual  \\\n",
       "0      Dearborn St & Erie St    St. Clair St & Erie St        casual   \n",
       "1  Franklin St & Illinois St  Noble St & Milwaukee Ave        casual   \n",
       "2  Lake Shore Dr & Monroe St      Federal St & Polk St        casual   \n",
       "3   Leavitt St & Chicago Ave   Stave St & Armitage Ave        casual   \n",
       "4        Buckingham Fountain       Buckingham Fountain        casual   \n",
       "\n",
       "      ride_length     day  \n",
       "0 0 days 00:09:40  Sunday  \n",
       "1 0 days 00:11:19  Sunday  \n",
       "2 0 days 00:29:01  Sunday  \n",
       "3 0 days 00:09:15  Sunday  \n",
       "4 0 days 00:33:27  Sunday  "
      ]
     },
     "execution_count": 10,
     "metadata": {},
     "output_type": "execute_result"
    }
   ],
   "source": [
    "dat= dat.drop(columns=\"Unnamed: 0\")\n",
    "dat.head()"
   ]
  },
  {
   "cell_type": "code",
   "execution_count": 11,
   "id": "62db4912",
   "metadata": {},
   "outputs": [
    {
     "data": {
      "text/plain": [
       "ride_id                        object\n",
       "rideable_type                  object\n",
       "started_at             datetime64[ns]\n",
       "ended_at               datetime64[ns]\n",
       "start_station_name             object\n",
       "end_station_name               object\n",
       "member_casual                  object\n",
       "ride_length           timedelta64[ns]\n",
       "day                            object\n",
       "dtype: object"
      ]
     },
     "execution_count": 11,
     "metadata": {},
     "output_type": "execute_result"
    }
   ],
   "source": [
    "dat.dtypes"
   ]
  },
  {
   "cell_type": "code",
   "execution_count": 12,
   "id": "d854ec9c",
   "metadata": {},
   "outputs": [],
   "source": [
    "dat.to_csv(\"cyclistic_2021.csv\")"
   ]
  },
  {
   "cell_type": "code",
   "execution_count": null,
   "id": "32def521",
   "metadata": {},
   "outputs": [],
   "source": []
  }
 ],
 "metadata": {
  "kernelspec": {
   "display_name": "Python 3",
   "language": "python",
   "name": "python3"
  },
  "language_info": {
   "codemirror_mode": {
    "name": "ipython",
    "version": 3
   },
   "file_extension": ".py",
   "mimetype": "text/x-python",
   "name": "python",
   "nbconvert_exporter": "python",
   "pygments_lexer": "ipython3",
   "version": "3.8.8"
  }
 },
 "nbformat": 4,
 "nbformat_minor": 5
}
